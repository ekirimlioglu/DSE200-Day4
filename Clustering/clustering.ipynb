{
 "cells": [
  {
   "cell_type": "markdown",
   "metadata": {},
   "source": [
    "# Game Classification and Clustering Analysis\n",
    "\n",
    "In this notebook, we'll explore how clustering can be used as a feature engineering step before classification using a video games dataset.\n",
    "\n",
    "### Learning Objectives:\n",
    "1. Understand how clustering can identify natural groupings in gaming data\n",
    "2. Use cluster assignments as features for classification\n",
    "3. Build and evaluate a machine learning pipeline\n",
    "4. Practice handling categorical and numerical data"
   ]
  },
  {
   "cell_type": "code",
   "execution_count": 11,
   "metadata": {},
   "outputs": [],
   "source": [
    "%pip install pandas numpy matplotlib seaborn scikit-learn"
   ]
  },
  {
   "cell_type": "code",
   "execution_count": 12,
   "metadata": {},
   "outputs": [],
   "source": [
    "# Import required libraries\n",
    "import pandas as pd\n",
    "import numpy as np\n",
    "import matplotlib.pyplot as plt\n",
    "import seaborn as sns\n",
    "from sklearn.cluster import KMeans\n",
    "from sklearn.preprocessing import StandardScaler, MultiLabelBinarizer\n",
    "from sklearn.model_selection import train_test_split\n",
    "from sklearn.ensemble import RandomForestClassifier\n",
    "from sklearn.metrics import classification_report\n",
    "import ast\n",
    "import kagglehub\n",
    "\n",
    "# Set random seed for reproducibility\n",
    "np.random.seed(42)"
   ]
  },
  {
   "cell_type": "code",
   "execution_count": 13,
   "metadata": {},
   "outputs": [],
   "source": [
    "# Load the dataset\n",
    "df = pd.read_csv(kagglehub.dataset_download(\"arnabchaki/popular-video-games-1980-2023\")+'/games.csv')\n",
    "\n",
    "# Display first few rows and basic information\n",
    "print(\"Dataset Shape:\", df.shape)\n",
    "df.head()"
   ]
  },
  {
   "cell_type": "markdown",
   "metadata": {},
   "source": [
    "## Task 1: Data Preprocessing\n",
    "\n",
    "Let's prepare our data for clustering by handling both numerical and categorical features."
   ]
  },
  {
   "cell_type": "code",
   "execution_count": 14,
   "metadata": {},
   "outputs": [],
   "source": [
    "# Convert string representations of lists to actual lists\n",
    "df['Genres'] = df['Genres'].apply(ast.literal_eval)\n",
    "\n",
    "# Convert Times Listed and Number of Reviews from string format (e.g., '1.1K') to numeric\n",
    "def convert_to_numeric(x):\n",
    "    if isinstance(x, str):\n",
    "        if 'K' in x:\n",
    "            return float(x.replace('K', '')) * 1000\n",
    "    return float(x)\n",
    "\n",
    "df['Times_Listed_Numeric'] = df['Times Listed'].apply(convert_to_numeric)\n",
    "df['Reviews_Numeric'] = df['Number of Reviews'].apply(convert_to_numeric)\n",
    "\n",
    "# Create genre features using MultiLabelBinarizer\n",
    "mlb = MultiLabelBinarizer()\n",
    "genre_features = pd.DataFrame(mlb.fit_transform(df['Genres']),\n",
    "                             columns=mlb.classes_,\n",
    "                             index=df.index)\n"
   ]
  },
  {
   "cell_type": "code",
   "execution_count": 15,
   "metadata": {},
   "outputs": [],
   "source": [
    "# Prepare features for clustering\n",
    "cluster_features = ['Rating', 'Times_Listed_Numeric', 'Reviews_Numeric']\n",
    "X_cluster = df[cluster_features].copy()\n",
    "\n",
    "# Handle missing values\n",
    "X_cluster = X_cluster.fillna(X_cluster.mean())\n",
    "\n",
    "# Scale the features\n",
    "scaler = StandardScaler()\n",
    "X_scaled = scaler.fit_transform(X_cluster)\n",
    "\n",
    "# Create a binary classification target (High-rated vs Average/Low-rated games)\n",
    "df['high_rated'] = (df['Rating'] >= df['Rating'].quantile(0.75)).astype(int)\n",
    "\n",
    "# Print basic statistics of our features\n",
    "print(\"\\nFeature Statistics:\")\n",
    "print(X_cluster.describe())"
   ]
  },
  {
   "cell_type": "markdown",
   "metadata": {},
   "source": [
    "## Task 2: Clustering Analysis\n",
    "\n",
    "Let's perform K-means clustering to identify natural groupings in our games."
   ]
  },
  {
   "cell_type": "code",
   "execution_count": 16,
   "metadata": {},
   "outputs": [],
   "source": [
    "# Perform K-means clustering\n",
    "n_clusters = 3\n",
    "kmeans = KMeans(n_clusters=n_clusters, random_state=42)\n",
    "cluster_labels = kmeans.fit_predict(X_scaled)\n",
    "\n",
    "# Add cluster labels to the dataframe\n",
    "df['Cluster'] = cluster_labels\n",
    "\n",
    "# Visualize clusters\n",
    "plt.figure(figsize=(12, 6))\n",
    "\n",
    "# Create scatter plot\n",
    "plt.subplot(1, 2, 1)\n",
    "sns.scatterplot(data=df, x='Rating', y='Times_Listed_Numeric', \n",
    "                hue='Cluster', palette='deep')\n",
    "plt.title('Game Clusters: Rating vs Times Listed')\n",
    "\n",
    "# Create cluster profile plot\n",
    "plt.subplot(1, 2, 2)\n",
    "cluster_profiles = df.groupby('Cluster')[cluster_features].mean()\n",
    "cluster_profiles_scaled = pd.DataFrame(scaler.transform(cluster_profiles),\n",
    "                                      columns=cluster_features,\n",
    "                                      index=cluster_profiles.index)\n",
    "sns.heatmap(cluster_profiles_scaled, cmap='coolwarm', center=0)\n",
    "plt.title('Cluster Profiles')\n",
    "\n",
    "plt.tight_layout()\n",
    "plt.show()\n",
    "\n",
    "# Student Exercise: What characteristics define each cluster?\n",
    "# Write your analysis here: "
   ]
  },
  {
   "cell_type": "markdown",
   "metadata": {},
   "source": [
    "## Task 3: Building a Classification Pipeline\n",
    "\n",
    "Now let's use our cluster assignments and genre features for classification."
   ]
  },
  {
   "cell_type": "code",
   "execution_count": 18,
   "metadata": {},
   "outputs": [],
   "source": [
    "# Combine numerical features with genre features and cluster labels\n",
    "X = pd.concat([X_cluster, genre_features, \n",
    "               pd.get_dummies(df['Cluster'], prefix='Cluster')], axis=1)\n",
    "y = df['high_rated']\n",
    "\n",
    "# Split the data\n",
    "X_train, X_test, y_train, y_test = train_test_split(\n",
    "    X, y, test_size=0.2, random_state=42\n",
    ")\n",
    "\n",
    "# Create and train the classifier\n",
    "clf = RandomForestClassifier(n_estimators=100, random_state=42)\n",
    "clf.fit(X_train, y_train)\n",
    "\n",
    "# Make predictions\n",
    "y_pred = clf.predict(X_test)\n",
    "\n",
    "# Print classification report\n",
    "print(\"Classification Report:\")\n",
    "print(classification_report(y_test, y_pred))\n",
    "\n",
    "# Student Exercise: What does the classification report tell us about our model's performance?\n",
    "# Write your analysis here: "
   ]
  },
  {
   "cell_type": "markdown",
   "metadata": {},
   "source": [
    "## Task 4: Feature Importance Analysis"
   ]
  },
  {
   "cell_type": "code",
   "execution_count": 19,
   "metadata": {},
   "outputs": [],
   "source": [
    "# Get feature importance\n",
    "importance = pd.DataFrame({\n",
    "    'feature': X.columns,\n",
    "    'importance': clf.feature_importances_\n",
    "})\n",
    "importance = importance.sort_values('importance', ascending=False)\n",
    "\n",
    "# Plot top 15 most important features\n",
    "plt.figure(figsize=(12, 6))\n",
    "sns.barplot(data=importance.head(15), x='importance', y='feature')\n",
    "plt.title('Top 15 Most Important Features')\n",
    "plt.tight_layout()\n",
    "plt.show()\n"
   ]
  },
  {
   "cell_type": "markdown",
   "metadata": {},
   "source": [
    "## Bonus Challenges:\n",
    "\n",
    "1. Try different clustering algorithms (e.g., DBSCAN, Hierarchical Clustering)\n",
    "2. Experiment with feature selection methods\n",
    "3. Analyze the relationship between genres and ratings\n",
    "\n",
    "## Discussion Questions:\n",
    "\n",
    "1. How do different genres tend to cluster together?\n",
    "2. What makes certain games more likely to be highly rated?\n",
    "3. How could game developers use these insights?\n",
    "4. What are the limitations of our analysis?"
   ]
  },
  {
   "cell_type": "markdown",
   "metadata": {},
   "source": [
    "# Advanced Game Analysis: Bonus Challenges\n",
    "\n",
    "This notebook extends our previous analysis with advanced clustering techniques and deeper insights."
   ]
  },
  {
   "cell_type": "code",
   "execution_count": null,
   "metadata": {},
   "outputs": [],
   "source": [
    "from sklearn.cluster import DBSCAN, AgglomerativeClustering\n",
    "from sklearn.feature_selection import SelectKBest, f_classif\n",
    "from sklearn.metrics import silhouette_score\n",
    "from scipy.cluster.hierarchy import dendrogram, linkage\n"
   ]
  },
  {
   "cell_type": "markdown",
   "metadata": {},
   "source": [
    "## Challenge 1: Different Clustering Algorithms"
   ]
  },
  {
   "cell_type": "code",
   "execution_count": null,
   "metadata": {},
   "outputs": [],
   "source": [
    "def compare_clustering_algorithms(X_scaled, df):\n",
    "    # 1. DBSCAN\n",
    "    dbscan = DBSCAN(eps=0.5, min_samples=5)\n",
    "    dbscan_labels = dbscan.fit_predict(X_scaled)\n",
    "    \n",
    "    # 2. Hierarchical Clustering\n",
    "    hierarchical = AgglomerativeClustering(n_clusters=4)\n",
    "    hierarchical_labels = hierarchical.fit_predict(X_scaled)\n",
    "    \n",
    "    # Visualize results\n",
    "    fig, axes = plt.subplots(2, 2, figsize=(15, 12))\n",
    "    \n",
    "    # Original K-means\n",
    "    sns.scatterplot(data=df, x='Rating', y='Times_Listed_Numeric',\n",
    "                    hue='Cluster', ax=axes[0,0], palette='deep')\n",
    "    axes[0,0].set_title('K-means Clustering')\n",
    "    \n",
    "    # DBSCAN\n",
    "    sns.scatterplot(data=df, x='Rating', y='Times_Listed_Numeric',\n",
    "                    hue=dbscan_labels, ax=axes[0,1], palette='deep')\n",
    "    axes[0,1].set_title('DBSCAN Clustering')\n",
    "    \n",
    "    # Hierarchical\n",
    "    sns.scatterplot(data=df, x='Rating', y='Times_Listed_Numeric',\n",
    "                    hue=hierarchical_labels, ax=axes[1,0], palette='deep')\n",
    "    axes[1,0].set_title('Hierarchical Clustering')\n",
    "    \n",
    "    # Dendrogram\n",
    "    linkage_matrix = linkage(X_scaled[:100], 'ward')  # Using first 100 samples for visibility\n",
    "    dendrogram(linkage_matrix, ax=axes[1,1])\n",
    "    axes[1,1].set_title('Hierarchical Clustering Dendrogram (First 100 samples)')\n",
    "    \n",
    "    plt.tight_layout()\n",
    "    plt.show()\n",
    "    \n",
    "    return dbscan_labels, hierarchical_labels\n",
    "\n",
    "dbscan_labels, hierarchical_labels = compare_clustering_algorithms(X_scaled, df)"
   ]
  }
 ],
 "metadata": {
  "kernelspec": {
   "display_name": "Python 3",
   "language": "python",
   "name": "python3"
  }
 },
 "nbformat": 4,
 "nbformat_minor": 4
}
