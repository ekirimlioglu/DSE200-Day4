{
  "cells": [
    {
      "cell_type": "code",
      "execution_count": null,
      "metadata": {},
      "outputs": [],
      "source": [
        "%pip install numpy pandas scipy matplotlib seaborn scikit-learn"
      ]
    },
    {
      "cell_type": "markdown",
      "metadata": {
        "id": "hlTOs6O4-_EH"
      },
      "source": [
        "# Introduction to A/B Testing\n",
        "A/B testing is an experimental approach in data science where two versions of a variable (A and B) are compared. The goal is to identify which version performs better in terms of a predefined metric.\n",
        "\n",
        "## Why A/B Testing?\n",
        "- Measure the impact of changes on key business metrics.\n",
        "- Make data-driven decisions to improve customer experience.\n",
        "- Widely used in web design, marketing, and product development.\n",
        "\n",
        "## Basic Terminology\n",
        "- **Control Group**: Receives the original version (A).\n",
        "- **Treatment Group**: Receives the modified version (B).\n",
        "- **Metric**: The measurable outcome (e.g., click-through rate, conversion rate) to assess success.\n",
        "\n",
        "# Limitations of A/B Testing\n",
        "- **Not Suitable for Small Audiences**: A/B tests require sufficient data for reliable results.\n",
        "- **Short-Term vs Long-Term Effects**: Results may vary over time.\n",
        "- **One Change at a Time**: Testing multiple changes can be complex (consider Multivariate Testing if needed).\n",
        "\n",
        "# How A/B Testing Works\n",
        "The process involves:\n",
        "1. **Define Objective**: Set a clear hypothesis.\n",
        "2. **Create Variants**: Design the control and treatment versions.\n",
        "3. **Split the Audience**: Randomly assign users to either group.\n",
        "4. **Measure & Compare**: Analyze the results to check if the difference is statistically significant."
      ]
    },
    {
      "cell_type": "markdown",
      "metadata": {
        "id": "bhwFRAHsAJVe"
      },
      "source": [
        "---\n",
        "# Case Study: Airbnb's A/B Testing on Listings\n",
        "Airbnb conducted an A/B test to improve their listing page design. They wanted to determine if changing the layout would improve user engagement and booking rates.\n",
        "\n",
        "## Background\n",
        "- **Control**: Existing listing design.\n",
        "- **Treatment**: New design with enhanced photos and layout.\n",
        "\n",
        "## Key Metrics\n",
        "- **Primary**: Booking rate\n",
        "- **Secondary**: Time spent on listing, click-through rate on photos\n",
        "\n",
        "---\n",
        "\n",
        "# Simple Example: Testing Conversion Rates with Python\n",
        "Suppose we want to test whether a new call-to-action button color increases conversions.\n",
        "\n",
        "## Hypothesis\n",
        "- H0: The new button color has no effect on conversions.\n",
        "- H1: The new button color increases conversions.\n"
      ]
    },
    {
      "cell_type": "code",
      "execution_count": null,
      "metadata": {
        "colab": {
          "base_uri": "https://localhost:8080/",
          "height": 206
        },
        "id": "DjlJ15Db_DNc",
        "outputId": "2b4c25a6-3332-4bb2-a0b8-28e5f7d97c70"
      },
      "outputs": [],
      "source": [
        "# Simulating Data for A/B Test\n",
        "import numpy as np\n",
        "import pandas as pd\n",
        "\n",
        "# Set a random seed for reproducibility\n",
        "np.random.seed(42)\n",
        "\n",
        "# Simulate conversion rates (control: 10%, treatment: 12%)\n",
        "control_data = np.random.binomial(1, 0.10, 1000)\n",
        "treatment_data = np.random.binomial(1, 0.12, 1000)\n",
        "\n",
        "# Create a DataFrame\n",
        "data = pd.DataFrame({\n",
        "    \"Group\": [\"Control\"] * 1000 + [\"Treatment\"] * 1000,\n",
        "    \"Conversion\": np.concatenate([control_data, treatment_data])\n",
        "})\n",
        "\n",
        "# Display the first few rows\n",
        "data.head()"
      ]
    },
    {
      "cell_type": "markdown",
      "metadata": {
        "id": "IG6N-7O1_ubx"
      },
      "source": [
        "# Analyzing Results with a Chi-Square Test\n",
        "To determine if there's a significant difference in conversion rates, we'll use a Chi-Square test."
      ]
    },
    {
      "cell_type": "code",
      "execution_count": null,
      "metadata": {
        "colab": {
          "base_uri": "https://localhost:8080/"
        },
        "id": "dYSogX8V_tVP",
        "outputId": "976a219b-f233-4474-9aee-96fa447898ff"
      },
      "outputs": [],
      "source": [
        "from scipy.stats import chi2_contingency\n",
        "\n",
        "# Create a contingency table\n",
        "contingency_table = pd.crosstab(data['Group'], data['Conversion'])\n",
        "print(\"Contingency Table:\\n\", contingency_table)\n",
        "\n",
        "# Run the Chi-Square Test\n",
        "chi2, p, _, _ = chi2_contingency(contingency_table)\n",
        "\n",
        "# Display results\n",
        "print(f\"Chi-Square Test Statistic: {chi2}\")\n",
        "print(f\"P-Value: {p}\")\n",
        "\n",
        "if p < 0.05:\n",
        "    print(\"Reject the null hypothesis: Significant difference in conversions.\")\n",
        "else:\n",
        "    print(\"Fail to reject the null hypothesis: No significant difference in conversions.\")\n"
      ]
    },
    {
      "cell_type": "markdown",
      "metadata": {
        "id": "dbkM8cGDBqGx"
      },
      "source": [
        "\n",
        "# Visualizing A/B Test Results\n",
        "Visualizing helps in understanding the conversion difference between the groups."
      ]
    },
    {
      "cell_type": "code",
      "execution_count": null,
      "metadata": {
        "colab": {
          "base_uri": "https://localhost:8080/",
          "height": 529
        },
        "id": "KDwS6lllAKo4",
        "outputId": "54d9f255-f7c7-4d02-e99f-bb3c09a5b7ac"
      },
      "outputs": [],
      "source": [
        "import matplotlib.pyplot as plt\n",
        "\n",
        "# Calculate conversion rates for each group\n",
        "conversion_rates = data.groupby(\"Group\")[\"Conversion\"].mean()\n",
        "\n",
        "# Plot the results\n",
        "conversion_rates.plot(kind=\"bar\", color=[\"blue\", \"orange\"])\n",
        "plt.title(\"Conversion Rates for Control vs. Treatment\")\n",
        "plt.xlabel(\"Group\")\n",
        "plt.ylabel(\"Conversion Rate\")\n",
        "plt.show()"
      ]
    },
    {
      "cell_type": "markdown",
      "metadata": {
        "id": "SLA6nHFvAj-w"
      },
      "source": [
        "# Interpreting Results\n",
        "In the Airbnb test:\n",
        "- **Hypothesis Test**: Showed a statistically significant increase in bookings for the new design.\n",
        "- **Business Decision**: The team rolled out the new design, leading to a 5% increase in bookings.\n",
        "\n",
        "In our simulated example:\n",
        "- Based on the Chi-Square test, we determine if there’s a significant difference between the control and treatment groups.\n",
        "\n",
        "# Best Practices for A/B Testing\n",
        "- **Clearly Define Objectives**: Ensure the metric aligns with business goals.\n",
        "- **Ensure Sufficient Sample Size**: Small samples may lead to inconclusive results.\n",
        "- **Monitor for Bias**: Randomly assign users and ensure no interference.\n",
        "- **Consider External Factors**: Avoid running tests during unusual times/events."
      ]
    }
  ],
  "metadata": {
    "colab": {
      "provenance": []
    },
    "kernelspec": {
      "display_name": "Python 3",
      "name": "python3"
    },
    "language_info": {
      "codemirror_mode": {
        "name": "ipython",
        "version": 3
      },
      "file_extension": ".py",
      "mimetype": "text/x-python",
      "name": "python",
      "nbconvert_exporter": "python",
      "pygments_lexer": "ipython3",
      "version": "3.11.2"
    }
  },
  "nbformat": 4,
  "nbformat_minor": 0
}
