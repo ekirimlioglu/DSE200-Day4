{
  "cells": [
    {
      "cell_type": "markdown",
      "metadata": {
        "id": "Df3ZrTdskfhg"
      },
      "source": [
        "# Introduction to Natural Language Processing\n",
        "Natural Language Processing (NLP) enables machines to interpret, understand, and generate human language.\n",
        "Applications of NLP include chatbots, machine translation, and sentiment analysis."
      ]
    },
    {
      "cell_type": "code",
      "execution_count": null,
      "metadata": {},
      "outputs": [],
      "source": [
        "%pip install -q nltk spacy transformers tensorflow tf-keras textblob\n"
      ]
    },
    {
      "cell_type": "code",
      "execution_count": null,
      "metadata": {
        "colab": {
          "base_uri": "https://localhost:8080/"
        },
        "id": "vBHxTKiWkUhS",
        "outputId": "c8610629-dcb6-4d18-8933-ae4f4228e93f"
      },
      "outputs": [],
      "source": [
        "# Import necessary libraries for NLP\n",
        "import nltk\n",
        "import spacy\n",
        "from transformers import pipeline\n",
        "\n",
        "\n",
        "# Download any necessary NLTK resources\n",
        "nltk.download('punkt')\n",
        "nltk.download('stopwords')\n"
      ]
    },
    {
      "cell_type": "markdown",
      "metadata": {
        "id": "Ne9ZkjqckgYb"
      },
      "source": [
        "# Understanding Sentiment Analysis\n",
        "Sentiment analysis is the process of identifying and classifying sentiments within text. It is widely used in various\n",
        "industries to understand public opinion, customer feedback, and more."
      ]
    },
    {
      "cell_type": "code",
      "execution_count": null,
      "metadata": {
        "colab": {
          "base_uri": "https://localhost:8080/"
        },
        "id": "ZSNeYuUSksB_",
        "outputId": "97d96a50-9818-4de7-82d8-55dffe732d4e"
      },
      "outputs": [],
      "source": [
        "# Sample text data to work with\n",
        "sample_texts = [\n",
        "  \"I absolutely love this product! It works like a charm.\",\n",
        "  \"This was a terrible experience; I am never coming back.\",\n",
        "  \"It was okay, not the best but not the worst either.\"\n",
        "]\n",
        "\n",
        "# Display sample texts\n",
        "for text in sample_texts:\n",
        "  print(text)\n",
        "\n"
      ]
    },
    {
      "cell_type": "markdown",
      "metadata": {
        "id": "yRq6w-OIkt8d"
      },
      "source": [
        "# Text Preprocessing Steps\n",
        "Preprocessing is a crucial step in NLP that involves preparing and cleaning the text for analysis. Common steps include:\n",
        "- **Tokenization**: Breaking down text into individual words or tokens\n",
        "- **Stopword Removal**: Removing \"common\" words that may not carry significant meaning (and, the, is, this...)\n",
        "\n",
        "- **Stemming/Lemmatization**: Reducing words to their root forms\n",
        "\n",
        ".\n",
        "<hr>\n",
        ".\n",
        "\n",
        "![Tokenize](https://miro.medium.com/v2/resize:fit:4800/format:webp/1*Rs6fzMD_9AFzSfNUguPlDA.jpeg)\n",
        "\n"
      ]
    },
    {
      "cell_type": "code",
      "execution_count": null,
      "metadata": {
        "colab": {
          "base_uri": "https://localhost:8080/"
        },
        "id": "00Jl46u3k4rr",
        "outputId": "0e3c0e23-1559-4340-e158-c0b7e16117c9"
      },
      "outputs": [],
      "source": [
        "# Example of tokenization and stopword removal with NLTK\n",
        "from nltk.tokenize import word_tokenize\n",
        "from nltk.corpus import stopwords\n",
        "\n",
        "# Tokenize and remove stopwords from the sample text\n",
        "stop_words = set(stopwords.words('english'))\n",
        "processed_texts = []\n",
        "\n",
        "for text in sample_texts:\n",
        "    tokens = word_tokenize(text.lower())\n",
        "    filtered_tokens = [word for word in tokens if word.isalnum() and word not in stop_words]\n",
        "    processed_texts.append(filtered_tokens)\n",
        "\n",
        "# Display processed text\n",
        "for i, tokens in enumerate(processed_texts):\n",
        "    print(f\"Original: {sample_texts[i]}\")\n",
        "    print(f\"Processed: {tokens}\\n\")\n",
        "\n"
      ]
    },
    {
      "cell_type": "markdown",
      "metadata": {
        "id": "vq_bHgx3md06"
      },
      "source": [
        "# Lemmatization\n",
        "\n",
        "Lemmatization is the process of reducing a word to its base or dictionary form, known as the lemma. It can help improve the accuracy of NLP tasks by grouping together different forms of the same word.\n",
        "\n",
        "The goal is to group together different inflected forms of a word so they can be analyzed as a single item. Unlike stemming, which simply chops off the ends of words, lemmatization considers the context and part of speech of the word to choose an actual valid root word.\n",
        "\n",
        "This is often more accurate than stemming, as it considers the word's context and part of speech.\n",
        "\n",
        "> For example, the lemma of \"running\" is \"run,\" and the lemma of \"better\" is \"good.\"\n",
        "\n",
        "\n"
      ]
    },
    {
      "cell_type": "code",
      "execution_count": null,
      "metadata": {},
      "outputs": [],
      "source": [
        "!spacy download en_core_web_sm"
      ]
    },
    {
      "cell_type": "code",
      "execution_count": null,
      "metadata": {
        "colab": {
          "base_uri": "https://localhost:8080/"
        },
        "id": "f9-J_QBwmmTG",
        "outputId": "46318a3b-fdca-4c69-96f8-ae93e0059926"
      },
      "outputs": [],
      "source": [
        "import spacy\n",
        "\n",
        "# Load the spaCy English language model\n",
        "nlp = spacy.load(\"en_core_web_sm\")\n",
        "\n",
        "# Example text\n",
        "text = \"I am running quickly, and I feel better now.\"\n",
        "\n",
        "# Process the text with spaCy\n",
        "doc = nlp(text)\n",
        "\n",
        "# Print the lemmas of each token\n",
        "for token in doc:\n",
        "    print(token.text.ljust(10), token.lemma_)"
      ]
    },
    {
      "cell_type": "markdown",
      "metadata": {
        "id": "F8LUXfxjlIWV"
      },
      "source": [
        "# Choosing a Sentiment Analysis Model\n",
        "Several libraries and models can perform sentiment analysis, including:\n",
        "- **Rule-based**: `TextBlob`, `VADER`\n",
        "- **Transformer-based**: BERT, DistilBERT\n",
        "Here, we will use `TextBlob` and Hugging Face's `transformers` library."
      ]
    },
    {
      "cell_type": "code",
      "execution_count": null,
      "metadata": {
        "colab": {
          "base_uri": "https://localhost:8080/"
        },
        "id": "p9uFje82lJAx",
        "outputId": "99cef08f-8ad1-4e12-b1b7-34a46972bbda"
      },
      "outputs": [],
      "source": [
        "# Load a pretrained sentiment analysis pipeline using Hugging Face's transformers\n",
        "sentiment_analyzer = pipeline(\"sentiment-analysis\", model=\"distilbert-base-uncased-finetuned-sst-2-english\", framework=\"tf\")\n"
      ]
    },
    {
      "cell_type": "markdown",
      "metadata": {
        "id": "rnJjWRqMlSkf"
      },
      "source": [
        "# Hands-On Sentiment Analysis Example\n",
        "Let's analyze the sentiment of sample texts using both `TextBlob` and a transformer model.\n",
        "\n",
        "> Note: Using a free huggingface token"
      ]
    },
    {
      "cell_type": "code",
      "execution_count": null,
      "metadata": {
        "colab": {
          "base_uri": "https://localhost:8080/"
        },
        "id": "ca_kgc7IlUT3",
        "outputId": "418afcff-9772-47b6-ae51-faff6e04d442"
      },
      "outputs": [],
      "source": [
        "# Import TextBlob for rule-based sentiment analysis\n",
        "from textblob import TextBlob\n",
        "\n",
        "# Analyze sentiment with TextBlob\n",
        "print(\"TextBlob Sentiment Analysis:\")\n",
        "for text in sample_texts:\n",
        "    blob = TextBlob(text)\n",
        "    print(f\"Text: {text}\\nSentiment: {blob.sentiment}\\n\")\n",
        "\n",
        "# Analyze sentiment with transformers\n",
        "print(\"Transformer-based Sentiment Analysis:\")\n",
        "for text in sample_texts:\n",
        "    result = sentiment_analyzer(text)[0]\n",
        "    print(f\"Text: {text}\\nSentiment: {result['label']}, Confidence: {result['score']:.2f}\\n\")"
      ]
    },
    {
      "cell_type": "markdown",
      "metadata": {
        "id": "eZgC8PCJlWBE"
      },
      "source": [
        "# Discussion of Model Performance and Limitations\n",
        "### Challenges:\n",
        "- **Context Sensitivity**: Models may misinterpret context, especially with sarcasm or irony.\n",
        "- **Domain-Specific Language**: Generic models might struggle with industry-specific terms.\n",
        "Improving sentiment analysis often requires high-quality, domain-specific datasets and, in some cases, custom fine-tuning of models.\n",
        "\n",
        "# Summary and Q&A\n",
        "In this session, we've covered:\n",
        "- Key NLP concepts\n",
        "- Steps for text preprocessing\n",
        "- Examples of sentiment analysis using TextBlob and transformer-based models.\n",
        "\n",
        "**Further Learning**:\n",
        "- Hugging Face Documentation: https://huggingface.co/docs\n",
        "- NLP courses: Online platforms like Coursera, edX, and DataCamp offer great resources.\n",
        "\n",
        "Feel free to explore further, and let’s open the floor for any questions!"
      ]
    }
  ],
  "metadata": {
    "colab": {
      "provenance": []
    },
    "kernelspec": {
      "display_name": "Python 3",
      "name": "python3"
    },
    "language_info": {
      "codemirror_mode": {
        "name": "ipython",
        "version": 3
      },
      "file_extension": ".py",
      "mimetype": "text/x-python",
      "name": "python",
      "nbconvert_exporter": "python",
      "pygments_lexer": "ipython3",
      "version": "3.11.2"
    }
  },
  "nbformat": 4,
  "nbformat_minor": 0
}
