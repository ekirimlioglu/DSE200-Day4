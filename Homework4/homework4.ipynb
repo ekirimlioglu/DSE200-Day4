{
 "cells": [
  {
   "cell_type": "markdown",
   "metadata": {},
   "source": [
    "# Movie Review Sentiment Analysis and Rating Prediction\n",
    "\n",
    "In this homework, you will:\n",
    "1. Load IMDB movie reviews dataset using Hugging Face datasets\n",
    "2. Perform sentiment analysis\n",
    "3. Build a ML model to predict movie ratings\n"
   ]
  },
  {
   "cell_type": "code",
   "execution_count": null,
   "metadata": {},
   "outputs": [],
   "source": [
    "# TODO: Install required packages\n",
    "%pip install pandas numpy scikit-learn transformers torch datasets"
   ]
  },
  {
   "cell_type": "code",
   "execution_count": null,
   "metadata": {},
   "outputs": [],
   "source": [
    "# TODO: Import required libraries\n",
    "import pandas as pd\n",
    "import numpy as np\n",
    "from datasets import load_dataset\n",
    "from sklearn.model_selection import train_test_split\n",
    "from sklearn.metrics import classification_report\n",
    "# Add any other libraries you need"
   ]
  },
  {
   "cell_type": "markdown",
   "metadata": {},
   "source": [
    "## Part 1: Load Dataset\n",
    "\n",
    "Load the IMDB dataset using Hugging Face datasets library"
   ]
  },
  {
   "cell_type": "code",
   "execution_count": null,
   "metadata": {},
   "outputs": [],
   "source": [
    "# TODO: Load the IMDB dataset\n",
    "# Hint: Use load_dataset('imdb')\n",
    "# Convert to pandas DataFrame for easier manipulation"
   ]
  },
  {
   "cell_type": "markdown",
   "metadata": {},
   "source": [
    "## Part 2: Data Preprocessing\n",
    "\n",
    "Clean and prepare the text data"
   ]
  },
  {
   "cell_type": "code",
   "execution_count": null,
   "metadata": {},
   "outputs": [],
   "source": [
    "# TODO: Create a function to clean text\n",
    "# 1. Remove HTML tags\n",
    "# 2. Remove special characters\n",
    "# 3. Convert to lowercase\n",
    "# Hint: Use regular expressions"
   ]
  },
  {
   "cell_type": "markdown",
   "metadata": {},
   "source": [
    "## Part 3: Advanced Sentiment Analysis\n",
    "\n",
    "Go beyond binary classification - use a pre-trained model to get continuous sentiment scores"
   ]
  },
  {
   "cell_type": "code",
   "execution_count": null,
   "metadata": {},
   "outputs": [],
   "source": [
    "# TODO: Implement advanced sentiment analysis\n",
    "# 1. Load a pre-trained model (hint: try 'distilbert-base-uncased-finetuned-sst-2-english')\n",
    "# 2. Create a function to get continuous sentiment scores\n",
    "# 3. Apply it to your cleaned text data\n",
    "# Note: Original dataset has binary labels, but we want continuous scores!"
   ]
  },
  {
   "cell_type": "markdown",
   "metadata": {},
   "source": [
    "## Part 4: Feature Engineering\n",
    "\n",
    "Create rich features for your model"
   ]
  },
  {
   "cell_type": "code",
   "execution_count": null,
   "metadata": {},
   "outputs": [],
   "source": [
    "# TODO: Create features\n",
    "# 1. Use your continuous sentiment scores\n",
    "# 2. Calculate text statistics:\n",
    "#    - Length\n",
    "#    - Word count\n",
    "#    - Average word length\n",
    "#    - Sentence count\n",
    "# 3. Any other features you think might help!"
   ]
  },
  {
   "cell_type": "markdown",
   "metadata": {},
   "source": [
    "## Part 5: Multi-Class Rating Prediction\n",
    "\n",
    "Instead of binary classification, predict a 5-star rating!"
   ]
  },
  {
   "cell_type": "code",
   "execution_count": null,
   "metadata": {},
   "outputs": [],
   "source": [
    "# TODO: Create target variable\n",
    "# Convert binary labels to 5-star ratings using your features\n",
    "# Hint: Use sentiment scores and other features to estimate star rating"
   ]
  },
  {
   "cell_type": "code",
   "execution_count": null,
   "metadata": {},
   "outputs": [],
   "source": [
    "# TODO: Build and train your model\n",
    "# 1. Split data into train and test sets\n",
    "# 2. Choose a model suitable for multi-class classification\n",
    "# 3. Train the model\n",
    "# 4. Make predictions\n",
    "# 5. Evaluate performance"
   ]
  },
  {
   "cell_type": "markdown",
   "metadata": {},
   "source": [
    "## Part 6: Analysis\n",
    "\n",
    "Analyze your results and suggest improvements"
   ]
  },
  {
   "cell_type": "code",
   "execution_count": null,
   "metadata": {},
   "outputs": [],
   "source": [
    "# TODO: Create visualizations and analyze:\n",
    "# 1. Confusion matrix for multi-class predictions\n",
    "# 2. Feature importance\n",
    "# 3. Error analysis\n",
    "# 4. Suggest improvements"
   ]
  }
 ],
 "metadata": {
  "kernelspec": {
   "display_name": "Python 3",
   "language": "python",
   "name": "python3"
  }
 },
 "nbformat": 4,
 "nbformat_minor": 4
}
